{
 "cells": [
  {
   "cell_type": "markdown",
   "id": "fb1f6003",
   "metadata": {},
   "source": [
    "# Libraries Import"
   ]
  },
  {
   "cell_type": "code",
   "execution_count": 1,
   "id": "da6bbe11",
   "metadata": {},
   "outputs": [],
   "source": [
    "# IMPORTED Libraries for this prediction\n",
    "\n",
    "import pandas as pd\n",
    "import numpy as np\n",
    "import matplotlib.pyplot as plt\n",
    "import seaborn as sns"
   ]
  },
  {
   "cell_type": "markdown",
   "id": "00ccf789",
   "metadata": {},
   "source": [
    "# Data Set Import"
   ]
  },
  {
   "cell_type": "code",
   "execution_count": 2,
   "id": "d59367ed",
   "metadata": {},
   "outputs": [
    {
     "data": {
      "text/html": [
       "<div>\n",
       "<style scoped>\n",
       "    .dataframe tbody tr th:only-of-type {\n",
       "        vertical-align: middle;\n",
       "    }\n",
       "\n",
       "    .dataframe tbody tr th {\n",
       "        vertical-align: top;\n",
       "    }\n",
       "\n",
       "    .dataframe thead th {\n",
       "        text-align: right;\n",
       "    }\n",
       "</style>\n",
       "<table border=\"1\" class=\"dataframe\">\n",
       "  <thead>\n",
       "    <tr style=\"text-align: right;\">\n",
       "      <th></th>\n",
       "      <th>price</th>\n",
       "      <th>area</th>\n",
       "      <th>bedrooms</th>\n",
       "      <th>bathrooms</th>\n",
       "      <th>stories</th>\n",
       "      <th>mainroad</th>\n",
       "      <th>guestroom</th>\n",
       "      <th>basement</th>\n",
       "      <th>hotwaterheating</th>\n",
       "      <th>airconditioning</th>\n",
       "      <th>parking</th>\n",
       "      <th>prefarea</th>\n",
       "      <th>furnishingstatus</th>\n",
       "    </tr>\n",
       "  </thead>\n",
       "  <tbody>\n",
       "    <tr>\n",
       "      <th>0</th>\n",
       "      <td>13300000</td>\n",
       "      <td>7420</td>\n",
       "      <td>4</td>\n",
       "      <td>2</td>\n",
       "      <td>3</td>\n",
       "      <td>yes</td>\n",
       "      <td>no</td>\n",
       "      <td>no</td>\n",
       "      <td>no</td>\n",
       "      <td>yes</td>\n",
       "      <td>2</td>\n",
       "      <td>yes</td>\n",
       "      <td>furnished</td>\n",
       "    </tr>\n",
       "    <tr>\n",
       "      <th>1</th>\n",
       "      <td>12250000</td>\n",
       "      <td>8960</td>\n",
       "      <td>4</td>\n",
       "      <td>4</td>\n",
       "      <td>4</td>\n",
       "      <td>yes</td>\n",
       "      <td>no</td>\n",
       "      <td>no</td>\n",
       "      <td>no</td>\n",
       "      <td>yes</td>\n",
       "      <td>3</td>\n",
       "      <td>no</td>\n",
       "      <td>furnished</td>\n",
       "    </tr>\n",
       "    <tr>\n",
       "      <th>2</th>\n",
       "      <td>12250000</td>\n",
       "      <td>9960</td>\n",
       "      <td>3</td>\n",
       "      <td>2</td>\n",
       "      <td>2</td>\n",
       "      <td>yes</td>\n",
       "      <td>no</td>\n",
       "      <td>yes</td>\n",
       "      <td>no</td>\n",
       "      <td>no</td>\n",
       "      <td>2</td>\n",
       "      <td>yes</td>\n",
       "      <td>semi-furnished</td>\n",
       "    </tr>\n",
       "    <tr>\n",
       "      <th>3</th>\n",
       "      <td>12215000</td>\n",
       "      <td>7500</td>\n",
       "      <td>4</td>\n",
       "      <td>2</td>\n",
       "      <td>2</td>\n",
       "      <td>yes</td>\n",
       "      <td>no</td>\n",
       "      <td>yes</td>\n",
       "      <td>no</td>\n",
       "      <td>yes</td>\n",
       "      <td>3</td>\n",
       "      <td>yes</td>\n",
       "      <td>furnished</td>\n",
       "    </tr>\n",
       "    <tr>\n",
       "      <th>4</th>\n",
       "      <td>11410000</td>\n",
       "      <td>7420</td>\n",
       "      <td>4</td>\n",
       "      <td>1</td>\n",
       "      <td>2</td>\n",
       "      <td>yes</td>\n",
       "      <td>yes</td>\n",
       "      <td>yes</td>\n",
       "      <td>no</td>\n",
       "      <td>yes</td>\n",
       "      <td>2</td>\n",
       "      <td>no</td>\n",
       "      <td>furnished</td>\n",
       "    </tr>\n",
       "  </tbody>\n",
       "</table>\n",
       "</div>"
      ],
      "text/plain": [
       "      price  area  bedrooms  bathrooms  stories mainroad guestroom basement  \\\n",
       "0  13300000  7420         4          2        3      yes        no       no   \n",
       "1  12250000  8960         4          4        4      yes        no       no   \n",
       "2  12250000  9960         3          2        2      yes        no      yes   \n",
       "3  12215000  7500         4          2        2      yes        no      yes   \n",
       "4  11410000  7420         4          1        2      yes       yes      yes   \n",
       "\n",
       "  hotwaterheating airconditioning  parking prefarea furnishingstatus  \n",
       "0              no             yes        2      yes        furnished  \n",
       "1              no             yes        3       no        furnished  \n",
       "2              no              no        2      yes   semi-furnished  \n",
       "3              no             yes        3      yes        furnished  \n",
       "4              no             yes        2       no        furnished  "
      ]
     },
     "execution_count": 2,
     "metadata": {},
     "output_type": "execute_result"
    }
   ],
   "source": [
    "HouseP = pd.read_csv(\"Housing.csv\")\n",
    "HouseP.head()"
   ]
  },
  {
   "cell_type": "code",
   "execution_count": 3,
   "id": "62186807",
   "metadata": {},
   "outputs": [
    {
     "name": "stdout",
     "output_type": "stream",
     "text": [
      "<class 'pandas.core.frame.DataFrame'>\n",
      "RangeIndex: 545 entries, 0 to 544\n",
      "Data columns (total 13 columns):\n",
      " #   Column            Non-Null Count  Dtype \n",
      "---  ------            --------------  ----- \n",
      " 0   price             545 non-null    int64 \n",
      " 1   area              545 non-null    int64 \n",
      " 2   bedrooms          545 non-null    int64 \n",
      " 3   bathrooms         545 non-null    int64 \n",
      " 4   stories           545 non-null    int64 \n",
      " 5   mainroad          545 non-null    object\n",
      " 6   guestroom         545 non-null    object\n",
      " 7   basement          545 non-null    object\n",
      " 8   hotwaterheating   545 non-null    object\n",
      " 9   airconditioning   545 non-null    object\n",
      " 10  parking           545 non-null    int64 \n",
      " 11  prefarea          545 non-null    object\n",
      " 12  furnishingstatus  545 non-null    object\n",
      "dtypes: int64(6), object(7)\n",
      "memory usage: 55.5+ KB\n"
     ]
    }
   ],
   "source": [
    "HouseP.info()"
   ]
  },
  {
   "cell_type": "code",
   "execution_count": 4,
   "id": "d7b118bc",
   "metadata": {},
   "outputs": [
    {
     "data": {
      "text/plain": [
       "Index(['price', 'area', 'bedrooms', 'bathrooms', 'stories', 'mainroad',\n",
       "       'guestroom', 'basement', 'hotwaterheating', 'airconditioning',\n",
       "       'parking', 'prefarea', 'furnishingstatus'],\n",
       "      dtype='object')"
      ]
     },
     "execution_count": 4,
     "metadata": {},
     "output_type": "execute_result"
    }
   ],
   "source": [
    "HouseP.columns"
   ]
  },
  {
   "cell_type": "code",
   "execution_count": 5,
   "id": "dfe616b3",
   "metadata": {},
   "outputs": [
    {
     "data": {
      "text/plain": [
       "(545, 13)"
      ]
     },
     "execution_count": 5,
     "metadata": {},
     "output_type": "execute_result"
    }
   ],
   "source": [
    "HouseP.shape"
   ]
  },
  {
   "cell_type": "code",
   "execution_count": null,
   "id": "faa09752",
   "metadata": {},
   "outputs": [],
   "source": []
  },
  {
   "cell_type": "markdown",
   "id": "42ee1a02",
   "metadata": {},
   "source": [
    "# Data Encoding"
   ]
  },
  {
   "cell_type": "code",
   "execution_count": 6,
   "id": "b6f41b00",
   "metadata": {},
   "outputs": [
    {
     "data": {
      "text/plain": [
       "yes    468\n",
       "no      77\n",
       "Name: mainroad, dtype: int64"
      ]
     },
     "execution_count": 6,
     "metadata": {},
     "output_type": "execute_result"
    }
   ],
   "source": [
    "HouseP['mainroad'].value_counts()"
   ]
  },
  {
   "cell_type": "code",
   "execution_count": 7,
   "id": "41f9b2f9",
   "metadata": {},
   "outputs": [],
   "source": [
    "HouseP.replace({'mainroad':{'yes': 0, 'no':1}},inplace=True)"
   ]
  },
  {
   "cell_type": "code",
   "execution_count": 8,
   "id": "859f5043",
   "metadata": {},
   "outputs": [
    {
     "data": {
      "text/plain": [
       "no     448\n",
       "yes     97\n",
       "Name: guestroom, dtype: int64"
      ]
     },
     "execution_count": 8,
     "metadata": {},
     "output_type": "execute_result"
    }
   ],
   "source": [
    "HouseP['guestroom'].value_counts()"
   ]
  },
  {
   "cell_type": "code",
   "execution_count": 9,
   "id": "d380199d",
   "metadata": {},
   "outputs": [],
   "source": [
    "HouseP.replace({'guestroom':{'yes': 0, 'no':1}},inplace=True)"
   ]
  },
  {
   "cell_type": "code",
   "execution_count": 10,
   "id": "ae9d42e3",
   "metadata": {},
   "outputs": [],
   "source": [
    "HouseP.replace({'basement':{'yes': 0, 'no':1}},inplace=True)"
   ]
  },
  {
   "cell_type": "code",
   "execution_count": 11,
   "id": "fef7d61b",
   "metadata": {},
   "outputs": [],
   "source": [
    "HouseP.replace({'hotwaterheating':{'yes': 0, 'no':1}},inplace=True)"
   ]
  },
  {
   "cell_type": "code",
   "execution_count": 12,
   "id": "a172ab6e",
   "metadata": {},
   "outputs": [],
   "source": [
    "HouseP.replace({'airconditioning':{'yes': 0, 'no':1}},inplace=True)"
   ]
  },
  {
   "cell_type": "code",
   "execution_count": 13,
   "id": "4987f4e8",
   "metadata": {},
   "outputs": [
    {
     "data": {
      "text/plain": [
       "semi-furnished    227\n",
       "unfurnished       178\n",
       "furnished         140\n",
       "Name: furnishingstatus, dtype: int64"
      ]
     },
     "execution_count": 13,
     "metadata": {},
     "output_type": "execute_result"
    }
   ],
   "source": [
    "HouseP['furnishingstatus'].value_counts()"
   ]
  },
  {
   "cell_type": "code",
   "execution_count": 14,
   "id": "043cf3f8",
   "metadata": {},
   "outputs": [],
   "source": [
    "HouseP.replace({'furnishingstatus':{'semi-furnished': 0, 'unfurnished':1, 'furnished':2}},inplace=True)"
   ]
  },
  {
   "cell_type": "markdown",
   "id": "97f0712a",
   "metadata": {},
   "source": [
    "# Defining X and Y"
   ]
  },
  {
   "cell_type": "code",
   "execution_count": 15,
   "id": "31c59b7f",
   "metadata": {},
   "outputs": [],
   "source": [
    "# Defining Target and Features\n",
    "y = HouseP['price']\n",
    "X = HouseP[['area', 'bedrooms', 'bathrooms', 'stories', 'mainroad',\n",
    "       'guestroom', 'basement', 'hotwaterheating', 'airconditioning',\n",
    "       'parking','furnishingstatus']]"
   ]
  },
  {
   "cell_type": "code",
   "execution_count": 16,
   "id": "bc4b3af0",
   "metadata": {},
   "outputs": [
    {
     "data": {
      "text/plain": [
       "(array([ 61., 163., 139.,  89.,  46.,  25.,  13.,   4.,   1.,   4.]),\n",
       " array([ 1750000.,  2905000.,  4060000.,  5215000.,  6370000.,  7525000.,\n",
       "         8680000.,  9835000., 10990000., 12145000., 13300000.]),\n",
       " <BarContainer object of 10 artists>)"
      ]
     },
     "execution_count": 16,
     "metadata": {},
     "output_type": "execute_result"
    },
    {
     "data": {
      "image/png": "[encoded data removed]",
      "text/plain": [
       "<Figure size 432x288 with 1 Axes>"
      ]
     },
     "metadata": {
      "needs_background": "light"
     },
     "output_type": "display_data"
    }
   ],
   "source": [
    "plt.hist(y)"
   ]
  },
  {
   "cell_type": "code",
   "execution_count": 17,
   "id": "0bcd7705",
   "metadata": {},
   "outputs": [
    {
     "data": {
      "text/plain": [
       "[<matplotlib.lines.Line2D at 0x2013e686d60>]"
      ]
     },
     "execution_count": 17,
     "metadata": {},
     "output_type": "execute_result"
    },
    {
     "data": {
      "image/png": "[encoded data removed]",
      "text/plain": [
       "<Figure size 432x288 with 1 Axes>"
      ]
     },
     "metadata": {
      "needs_background": "light"
     },
     "output_type": "display_data"
    }
   ],
   "source": [
    "plt.plot(y)"
   ]
  },
  {
   "cell_type": "code",
   "execution_count": 18,
   "id": "eaff0a70",
   "metadata": {},
   "outputs": [
    {
     "data": {
      "image/png": "[encoded data removed]",
      "text/plain": [
       "<Figure size 432x288 with 1 Axes>"
      ]
     },
     "metadata": {
      "needs_background": "light"
     },
     "output_type": "display_data"
    },
    {
     "data": {
      "image/png": "[encoded data removed]",
      "text/plain": [
       "<Figure size 432x288 with 1 Axes>"
      ]
     },
     "metadata": {
      "needs_background": "light"
     },
     "output_type": "display_data"
    },
    {
     "data": {
      "image/png": "[encoded data removed]",
      "text/plain": [
       "<Figure size 432x288 with 1 Axes>"
      ]
     },
     "metadata": {
      "needs_background": "light"
     },
     "output_type": "display_data"
    },
    {
     "data": {
      "image/png": "[encoded data removed]",
      "text/plain": [
       "<Figure size 432x288 with 1 Axes>"
      ]
     },
     "metadata": {
      "needs_background": "light"
     },
     "output_type": "display_data"
    },
    {
     "data": {
      "image/png": "[encoded data removed]",
      "text/plain": [
       "<Figure size 432x288 with 1 Axes>"
      ]
     },
     "metadata": {
      "needs_background": "light"
     },
     "output_type": "display_data"
    },
    {
     "data": {
      "image/png": "[encoded data removed]",
      "text/plain": [
       "<Figure size 432x288 with 1 Axes>"
      ]
     },
     "metadata": {
      "needs_background": "light"
     },
     "output_type": "display_data"
    },
    {
     "data": {
      "image/png": "[encoded data removed]",
      "text/plain": [
       "<Figure size 432x288 with 1 Axes>"
      ]
     },
     "metadata": {
      "needs_background": "light"
     },
     "output_type": "display_data"
    },
    {
     "data": {
      "image/png": "[encoded data removed]",
      "text/plain": [
       "<Figure size 432x288 with 1 Axes>"
      ]
     },
     "metadata": {
      "needs_background": "light"
     },
     "output_type": "display_data"
    },
    {
     "data": {
      "image/png": "[encoded data removed]",
      "text/plain": [
       "<Figure size 432x288 with 1 Axes>"
      ]
     },
     "metadata": {
      "needs_background": "light"
     },
     "output_type": "display_data"
    },
    {
     "data": {
      "image/png": "[encoded data removed]",
      "text/plain": [
       "<Figure size 432x288 with 1 Axes>"
      ]
     },
     "metadata": {
      "needs_background": "light"
     },
     "output_type": "display_data"
    },
    {
     "data": {
      "image/png": "[encoded data removed]",
      "text/plain": [
       "<Figure size 432x288 with 1 Axes>"
      ]
     },
     "metadata": {
      "needs_background": "light"
     },
     "output_type": "display_data"
    }
   ],
   "source": [
    "for i in X:\n",
    "    sns.countplot(data=HouseP,x=i)\n",
    "    plt.title(f'Bar plot of {i}')\n",
    "    plt.show()"
   ]
  },
  {
   "cell_type": "code",
   "execution_count": null,
   "id": "fdd5b60b",
   "metadata": {},
   "outputs": [],
   "source": []
  },
  {
   "cell_type": "markdown",
   "id": "fcfda44f",
   "metadata": {},
   "source": [
    "# Train Test Split"
   ]
  },
  {
   "cell_type": "code",
   "execution_count": 19,
   "id": "e92a0efb",
   "metadata": {},
   "outputs": [
    {
     "data": {
      "text/plain": [
       "((381, 11), (164, 11), (381,), (164,))"
      ]
     },
     "execution_count": 19,
     "metadata": {},
     "output_type": "execute_result"
    }
   ],
   "source": [
    "from sklearn.model_selection import train_test_split\n",
    "X_train, X_test, y_train, y_test = train_test_split(X,y, train_size= 0.7, random_state= 2529)\n",
    "X_train.shape, X_test.shape, y_train.shape, y_test.shape"
   ]
  },
  {
   "cell_type": "code",
   "execution_count": null,
   "id": "c0752ca1",
   "metadata": {},
   "outputs": [],
   "source": []
  },
  {
   "cell_type": "markdown",
   "id": "bb3e886d",
   "metadata": {},
   "source": [
    "# Model Selection"
   ]
  },
  {
   "cell_type": "code",
   "execution_count": 20,
   "id": "9e04567b",
   "metadata": {},
   "outputs": [],
   "source": [
    "from sklearn.linear_model import LinearRegression\n",
    "model = LinearRegression()"
   ]
  },
  {
   "cell_type": "markdown",
   "id": "9e304fba",
   "metadata": {},
   "source": [
    "\n",
    "# Model Fitting"
   ]
  },
  {
   "cell_type": "code",
   "execution_count": 21,
   "id": "16792069",
   "metadata": {
    "scrolled": true
   },
   "outputs": [
    {
     "data": {
      "text/plain": [
       "LinearRegression()"
      ]
     },
     "execution_count": 21,
     "metadata": {},
     "output_type": "execute_result"
    }
   ],
   "source": [
    "model.fit(X_train, y_train)"
   ]
  },
  {
   "cell_type": "code",
   "execution_count": 22,
   "id": "48e0863c",
   "metadata": {},
   "outputs": [
    {
     "data": {
      "text/plain": [
       "2645084.16708111"
      ]
     },
     "execution_count": 22,
     "metadata": {},
     "output_type": "execute_result"
    }
   ],
   "source": [
    "model.intercept_"
   ]
  },
  {
   "cell_type": "code",
   "execution_count": 23,
   "id": "63262f19",
   "metadata": {},
   "outputs": [
    {
     "data": {
      "text/plain": [
       "array([ 2.54678616e+02,  1.39430147e+05,  1.04182043e+06,  4.29143400e+05,\n",
       "       -5.22162483e+05, -4.26429029e+05, -3.43077395e+05, -7.76471653e+05,\n",
       "       -9.06330461e+05,  2.77421757e+05,  7.16099292e+04])"
      ]
     },
     "execution_count": 23,
     "metadata": {},
     "output_type": "execute_result"
    }
   ],
   "source": [
    "model.coef_"
   ]
  },
  {
   "cell_type": "markdown",
   "id": "157cd82d",
   "metadata": {},
   "source": [
    "# Prediction"
   ]
  },
  {
   "cell_type": "code",
   "execution_count": 24,
   "id": "f7e38ccd",
   "metadata": {},
   "outputs": [
    {
     "data": {
      "text/plain": [
       "array([4800080.06135488, 3332013.86593601, 5592479.00313939,\n",
       "       5476539.69101646, 2664613.62768333, 4524617.00201707,\n",
       "       5699891.20145363, 5087258.70275459, 3106303.09233193,\n",
       "       2932956.39223758, 7231236.81895795, 4608818.7728786 ,\n",
       "       5231147.87250552, 3435956.59062997, 2828881.33499571,\n",
       "       3834238.63971498, 7468025.26736036, 5722249.13150116,\n",
       "       4545433.03517917, 7615189.10827853, 3975235.02369478,\n",
       "       7201330.23653159, 8180442.59690398, 3301843.65305221,\n",
       "       7692753.32898891, 5080265.57003687, 4097477.90013374,\n",
       "       6628513.82605336, 3865845.20148118, 3949358.80985779,\n",
       "       3367428.1041405 , 5784916.20989123, 7820402.25822686,\n",
       "       7557473.74576294, 3035074.19833013, 3977605.66647824,\n",
       "       3992320.93107822, 6987513.65223274, 6613384.38507022,\n",
       "       3845023.51775106, 3696712.18708136, 5591017.52930095,\n",
       "       3278998.85753504, 3799708.19174493, 3091505.99307602,\n",
       "       4881191.85311763, 4021239.55655967, 6435511.6382551 ,\n",
       "       3254885.51860896, 6271488.77206214, 3543756.18267681,\n",
       "       6325304.16745722, 6605269.97567911, 9071077.95832144,\n",
       "       2530958.01637236, 4130190.55902512, 6028591.25565471,\n",
       "       7602551.50950761, 5181650.68542764, 4619724.37231619,\n",
       "       5210777.83150886, 4867660.11049716, 3936934.72762633,\n",
       "       4001465.10078507, 3881519.30436245, 4840265.34046862,\n",
       "       3689896.47011779, 4643439.15851753, 3822125.07811427,\n",
       "       2231104.60204053, 3106872.00458358, 2941239.84278274,\n",
       "       4823080.46455422, 3646901.02215202, 4109733.98009002,\n",
       "       4538108.59390636, 5450802.82214866, 3002662.62737213,\n",
       "       2581138.59665888, 5076596.05025386, 4487753.77962367,\n",
       "       7422194.16253698, 5192387.72187632, 5229755.85813197,\n",
       "       5742190.00029892, 3629822.18734894, 5382185.07897418,\n",
       "       2881100.38308901, 5907598.26795126, 6717808.63449449,\n",
       "       3766560.94057148, 5037414.19026359, 4354528.22742628,\n",
       "       4631215.12355369, 3965912.91989702, 3705575.60749953,\n",
       "       4497341.09075874, 7798424.6729217 , 4888939.75542809,\n",
       "       4182327.31746238, 6228671.25818728, 2943531.95032663,\n",
       "       2905584.83654439, 7087400.49280671, 6598112.90375874,\n",
       "       3612374.80164805, 3135778.9990772 , 6845682.68380323,\n",
       "       4894711.21374387, 4707756.63256147, 6350139.22626625,\n",
       "       6866356.88983451, 2444202.04571399, 5137856.45285623,\n",
       "       4490211.0340708 , 6416539.28404741, 6065447.4174627 ,\n",
       "       3738724.22690369, 7376038.40446889, 2862858.38407805,\n",
       "       3540352.19850089, 5834495.35096599, 4384472.44264507,\n",
       "       6152451.27087391, 4025867.97090482, 3277415.61588715,\n",
       "       3032924.14453849, 5908267.57924435, 3820790.29627156,\n",
       "       7615676.43860891, 6544321.0271493 , 4507828.15215049,\n",
       "       5340220.8576323 , 5992152.51301906, 4798108.93077733,\n",
       "       4314005.38580653, 4635569.95937308, 5674125.15320621,\n",
       "       3631839.56378471, 6493700.11186289, 2971501.35994909,\n",
       "       5387898.07979634, 4407352.09261439, 3320533.04651424,\n",
       "       3096111.2664835 , 5944071.44111065, 5863171.79501005,\n",
       "       7756880.34839282, 3405095.23995916, 7084755.80033399,\n",
       "       4974746.36300372, 2441355.34280188, 3147051.67089004,\n",
       "       3887604.46982504, 3695728.77893792, 2882194.02010451,\n",
       "       3835634.01545624, 3714380.92357317, 5420846.01799569,\n",
       "       7169546.85471055, 4584257.03629454, 6094450.19184535,\n",
       "       3527340.97563349, 6371782.66034285])"
      ]
     },
     "execution_count": 24,
     "metadata": {},
     "output_type": "execute_result"
    }
   ],
   "source": [
    "y_pred = model.predict(X_test)\n",
    "y_pred"
   ]
  },
  {
   "cell_type": "markdown",
   "id": "9ea3f807",
   "metadata": {},
   "source": [
    "# Accurarcy"
   ]
  },
  {
   "cell_type": "code",
   "execution_count": 25,
   "id": "41b5430d",
   "metadata": {},
   "outputs": [
    {
     "data": {
      "text/plain": [
       "936000.8919871938"
      ]
     },
     "execution_count": 25,
     "metadata": {},
     "output_type": "execute_result"
    }
   ],
   "source": [
    "from sklearn.metrics import mean_absolute_error\n",
    "mean_absolute_error(y_test, y_pred)\n"
   ]
  },
  {
   "cell_type": "code",
   "execution_count": null,
   "id": "88a0c6bd",
   "metadata": {},
   "outputs": [],
   "source": []
  },
  {
   "cell_type": "code",
   "execution_count": null,
   "id": "c5b6e726",
   "metadata": {},
   "outputs": [],
   "source": []
  }
 ],
 "metadata": {
  "kernelspec": {
   "display_name": "Python 3 (ipykernel)",
   "language": "python",
   "name": "python3"
  },
  "language_info": {
   "codemirror_mode": {
    "name": "ipython",
    "version": 3
   },
   "file_extension": ".py",
   "mimetype": "text/x-python",
   "name": "python",
   "nbconvert_exporter": "python",
   "pygments_lexer": "ipython3",
   "version": "3.9.12"
  }
 },
 "nbformat": 4,
 "nbformat_minor": 5
}
